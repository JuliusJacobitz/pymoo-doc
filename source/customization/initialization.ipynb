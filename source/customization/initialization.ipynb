{
 "cells": [
  {
   "cell_type": "markdown",
   "metadata": {
    "raw_mimetype": "text/restructuredtext"
   },
   "source": [
    ".. _nb_initialization:"
   ]
  },
  {
   "cell_type": "markdown",
   "metadata": {},
   "source": [
    "# Biased Initialization\n",
    "\n",
    "\n"
   ]
  },
  {
   "cell_type": "markdown",
   "metadata": {},
   "source": [
    "One way of customizing an algorithm is a biased initial population. This can be very helpful if expert knowledge already exists, and known solutions should be improved. In the following, two different ways of initialization are provided: **a)** just providing the design space of the variables and **b)** a `Population` object where the objectives and constraints are provided and are not needed to be calculated again.\n",
    "\n",
    "**NOTE:** This works with all **population-based** algorithms in *pymoo*. Technically speaking, all algorithms which inherit from `GeneticAlgorithm`. For **local-search** based algorithm, the initial solution can be provided by setting `x0` instead of `sampling`."
   ]
  },
  {
   "cell_type": "markdown",
   "metadata": {},
   "source": [
    "## By Array"
   ]
  },
  {
   "cell_type": "code",
   "execution_count": 1,
   "metadata": {
    "execution": {
     "iopub.execute_input": "2021-09-03T17:44:31.647131Z",
     "iopub.status.busy": "2021-09-03T17:44:31.646406Z",
     "iopub.status.idle": "2021-09-03T17:44:31.913920Z",
     "shell.execute_reply": "2021-09-03T17:44:31.914340Z"
    },
    "tags": []
   },
   "outputs": [
    {
     "name": "stdout",
     "output_type": "stream",
     "text": [
      "============================================================\n",
      "n_gen |  n_eval |     igd      |      gd      |      hv     \n",
      "============================================================\n",
      "    1 |     300 |  3.503397392 |  3.491466867 |  0.00000E+00\n",
      "    2 |     400 |  3.408929837 |  3.419973654 |  0.00000E+00\n",
      "    3 |     500 |  3.061118113 |  3.532186068 |  0.00000E+00\n",
      "    4 |     600 |  3.017302355 |  3.359599034 |  0.00000E+00\n",
      "    5 |     700 |  2.967904357 |  3.266805492 |  0.00000E+00\n",
      "    6 |     800 |  2.749643926 |  3.084861366 |  0.00000E+00\n",
      "    7 |     900 |  2.710516595 |  2.855977177 |  0.00000E+00\n",
      "    8 |    1000 |  2.609592142 |  2.767756474 |  0.00000E+00\n",
      "    9 |    1100 |  2.410575192 |  2.735390707 |  0.00000E+00\n",
      "   10 |    1200 |  2.352655051 |  2.343500665 |  0.00000E+00\n"
     ]
    },
    {
     "data": {
      "text/plain": [
       "<pymoo.core.result.Result at 0x1297561c0>"
      ]
     },
     "execution_count": 1,
     "metadata": {},
     "output_type": "execute_result"
    }
   ],
   "source": [
    "import numpy as np\n",
    "\n",
    "from pymoo.algorithms.moo.nsga2 import NSGA2\n",
    "from pymoo.factory import get_problem\n",
    "from pymoo.optimize import minimize\n",
    "\n",
    "problem = get_problem(\"zdt2\")\n",
    "\n",
    "X = np.random.random((300, problem.n_var))\n",
    "\n",
    "algorithm = NSGA2(pop_size=100, sampling=X)\n",
    "\n",
    "minimize(problem,\n",
    "         algorithm,\n",
    "         ('n_gen', 10),\n",
    "         seed=1,\n",
    "         verbose=True)"
   ]
  },
  {
   "cell_type": "markdown",
   "metadata": {},
   "source": [
    "## By Population (pre-evaluated)"
   ]
  },
  {
   "cell_type": "code",
   "execution_count": 2,
   "metadata": {
    "execution": {
     "iopub.execute_input": "2021-09-03T17:44:31.922259Z",
     "iopub.status.busy": "2021-09-03T17:44:31.921614Z",
     "iopub.status.idle": "2021-09-03T17:44:32.045033Z",
     "shell.execute_reply": "2021-09-03T17:44:32.045441Z"
    },
    "tags": []
   },
   "outputs": [
    {
     "name": "stdout",
     "output_type": "stream",
     "text": [
      "============================================================\n",
      "n_gen |  n_eval |     igd      |      gd      |      hv     \n",
      "============================================================\n",
      "    1 |       0 |  3.425921681 |  3.685045967 |  0.00000E+00\n",
      "    2 |     100 |  3.425921681 |  3.690240330 |  0.00000E+00\n",
      "    3 |     200 |  3.092019326 |  3.321537060 |  0.00000E+00\n",
      "    4 |     300 |  3.092019326 |  3.088609317 |  0.00000E+00\n",
      "    5 |     400 |  3.063649211 |  3.192303236 |  0.00000E+00\n",
      "    6 |     500 |  2.867152396 |  2.907987889 |  0.00000E+00\n"
     ]
    },
    {
     "name": "stdout",
     "output_type": "stream",
     "text": [
      "    7 |     600 |  2.400906473 |  2.598950464 |  0.00000E+00\n",
      "    8 |     700 |  2.373155351 |  2.301226083 |  0.00000E+00\n",
      "    9 |     800 |  2.221410441 |  2.056760484 |  0.00000E+00\n",
      "   10 |     900 |  1.986041316 |  2.035600141 |  0.00000E+00\n"
     ]
    },
    {
     "data": {
      "text/plain": [
       "<pymoo.core.result.Result at 0x1296a6790>"
      ]
     },
     "execution_count": 2,
     "metadata": {},
     "output_type": "execute_result"
    }
   ],
   "source": [
    "import numpy as np\n",
    "\n",
    "from pymoo.algorithms.moo.nsga2 import NSGA2\n",
    "from pymoo.factory import get_problem\n",
    "from pymoo.core.evaluator import Evaluator\n",
    "from pymoo.core.population import Population\n",
    "from pymoo.optimize import minimize\n",
    "\n",
    "problem = get_problem(\"zdt2\")\n",
    "\n",
    "# create initial data and set to the population object\n",
    "X = np.random.random((300, problem.n_var))\n",
    "pop = Population.new(\"X\", X)\n",
    "Evaluator().eval(problem, pop)\n",
    "\n",
    "algorithm = NSGA2(pop_size=100, sampling=pop)\n",
    "\n",
    "minimize(problem,\n",
    "         algorithm,\n",
    "         ('n_gen', 10),\n",
    "         seed=1,\n",
    "         verbose=True)"
   ]
  }
 ],
 "metadata": {
  "kernelspec": {
   "display_name": "Python 3",
   "language": "python",
   "name": "python3"
  },
  "language_info": {
   "codemirror_mode": {
    "name": "ipython",
    "version": 3
   },
   "file_extension": ".py",
   "mimetype": "text/x-python",
   "name": "python",
   "nbconvert_exporter": "python",
   "pygments_lexer": "ipython3",
   "version": "3.9.7"
  }
 },
 "nbformat": 4,
 "nbformat_minor": 4
}
