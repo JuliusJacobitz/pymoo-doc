{
 "cells": [
  {
   "cell_type": "markdown",
   "metadata": {
    "raw_mimetype": "text/restructuredtext"
   },
   "source": [
    ".. _nb_initialization:"
   ]
  },
  {
   "cell_type": "markdown",
   "metadata": {},
   "source": [
    "# Biased Initialization\n",
    "\n",
    "\n"
   ]
  },
  {
   "cell_type": "markdown",
   "metadata": {},
   "source": [
    "One way of customizing an algorithm is a biased initial population. This can be very helpful if expert knowledge already exists, and known solutions should be improved. In the following, two different ways of initialization are provided: **a)** just providing the design space of the variables and **b)** a `Population` object where the objectives and constraints are provided and are not needed to be calculated again.\n",
    "\n",
    "**NOTE:** This works with all **population-based** algorithms in *pymoo*. Technically speaking, all algorithms which inherit from `GeneticAlgorithm`. For **local-search** based algorithm, the initial solution can be provided by setting `x0` instead of `sampling`."
   ]
  },
  {
   "cell_type": "markdown",
   "metadata": {},
   "source": [
    "## By Array"
   ]
  },
  {
   "cell_type": "code",
   "execution_count": 1,
   "metadata": {
    "execution": {
     "iopub.execute_input": "2021-09-03T13:01:33.465533Z",
     "iopub.status.busy": "2021-09-03T13:01:33.464412Z",
     "iopub.status.idle": "2021-09-03T13:01:33.747358Z",
     "shell.execute_reply": "2021-09-03T13:01:33.747782Z"
    },
    "tags": []
   },
   "outputs": [
    {
     "name": "stdout",
     "output_type": "stream",
     "text": [
      "============================================================\n",
      "n_gen |  n_eval |     igd      |      gd      |      hv     \n",
      "============================================================\n",
      "    1 |     300 |  3.343104746 |  3.644308587 |  0.00000E+00\n",
      "    2 |     400 |  3.343104746 |  3.696386009 |  0.00000E+00\n",
      "    3 |     500 |  3.060424255 |  3.590096495 |  0.00000E+00\n",
      "    4 |     600 |  2.853137926 |  3.307481160 |  0.00000E+00\n",
      "    5 |     700 |  2.833045945 |  3.287427321 |  0.00000E+00\n",
      "    6 |     800 |  2.674322392 |  3.342990441 |  0.00000E+00\n",
      "    7 |     900 |  2.340412840 |  3.333019251 |  0.00000E+00\n",
      "    8 |    1000 |  2.320773968 |  2.823387844 |  0.00000E+00\n",
      "    9 |    1100 |  2.320773968 |  2.590406470 |  0.00000E+00\n",
      "   10 |    1200 |  2.124728831 |  2.387147195 |  0.00000E+00\n"
     ]
    },
    {
     "data": {
      "text/plain": [
       "<pymoo.model.result.Result at 0x7ff02ad58410>"
      ]
     },
     "execution_count": 1,
     "metadata": {},
     "output_type": "execute_result"
    }
   ],
   "source": [
    "import numpy as np\n",
    "\n",
    "from pymoo.algorithms.moo.nsga2 import NSGA2\n",
    "from pymoo.factory import get_problem\n",
    "from pymoo.optimize import minimize\n",
    "\n",
    "problem = get_problem(\"zdt2\")\n",
    "\n",
    "X = np.random.random((300, problem.n_var))\n",
    "\n",
    "algorithm = NSGA2(pop_size=100, sampling=X)\n",
    "\n",
    "minimize(problem,\n",
    "         algorithm,\n",
    "         ('n_gen', 10),\n",
    "         seed=1,\n",
    "         verbose=True)"
   ]
  },
  {
   "cell_type": "markdown",
   "metadata": {},
   "source": [
    "## By Population (pre-evaluated)"
   ]
  },
  {
   "cell_type": "code",
   "execution_count": 2,
   "metadata": {
    "execution": {
     "iopub.execute_input": "2021-09-03T13:01:33.761087Z",
     "iopub.status.busy": "2021-09-03T13:01:33.760183Z",
     "iopub.status.idle": "2021-09-03T13:01:33.933712Z",
     "shell.execute_reply": "2021-09-03T13:01:33.934217Z"
    },
    "tags": []
   },
   "outputs": [
    {
     "name": "stdout",
     "output_type": "stream",
     "text": [
      "============================================================\n",
      "n_gen |  n_eval |     igd      |      gd      |      hv     \n",
      "============================================================\n",
      "    1 |       0 |  3.052578571 |  3.542929049 |  0.00000E+00\n",
      "    2 |     100 |  3.052578571 |  3.539346306 |  0.00000E+00\n",
      "    3 |     200 |  2.557658105 |  3.029173882 |  0.00000E+00\n",
      "    4 |     300 |  2.557658105 |  2.922257216 |  0.00000E+00\n"
     ]
    },
    {
     "name": "stdout",
     "output_type": "stream",
     "text": [
      "    5 |     400 |  2.557658105 |  2.722838256 |  0.00000E+00\n",
      "    6 |     500 |  2.557658105 |  2.655595352 |  0.00000E+00\n",
      "    7 |     600 |  2.515539751 |  2.576219707 |  0.00000E+00\n",
      "    8 |     700 |  2.329205939 |  2.368409687 |  0.00000E+00\n",
      "    9 |     800 |  2.193786767 |  2.067635298 |  0.00000E+00\n",
      "   10 |     900 |  2.107662381 |  2.213928817 |  0.00000E+00\n"
     ]
    },
    {
     "data": {
      "text/plain": [
       "<pymoo.model.result.Result at 0x7ff02ad95150>"
      ]
     },
     "execution_count": 2,
     "metadata": {},
     "output_type": "execute_result"
    }
   ],
   "source": [
    "import numpy as np\n",
    "\n",
    "from pymoo.algorithms.moo.nsga2 import NSGA2\n",
    "from pymoo.factory import get_problem\n",
    "from pymoo.model.evaluator import Evaluator\n",
    "from pymoo.model.population import Population\n",
    "from pymoo.optimize import minimize\n",
    "\n",
    "problem = get_problem(\"zdt2\")\n",
    "\n",
    "# create initial data and set to the population object\n",
    "X = np.random.random((300, problem.n_var))\n",
    "pop = Population.new(\"X\", X)\n",
    "Evaluator().eval(problem, pop)\n",
    "\n",
    "algorithm = NSGA2(pop_size=100, sampling=pop)\n",
    "\n",
    "minimize(problem,\n",
    "         algorithm,\n",
    "         ('n_gen', 10),\n",
    "         seed=1,\n",
    "         verbose=True)"
   ]
  }
 ],
 "metadata": {
  "kernelspec": {
   "display_name": "Python 3",
   "language": "python",
   "name": "python3"
  },
  "language_info": {
   "codemirror_mode": {
    "name": "ipython",
    "version": 3
   },
   "file_extension": ".py",
   "mimetype": "text/x-python",
   "name": "python",
   "nbconvert_exporter": "python",
   "pygments_lexer": "ipython3",
   "version": "3.7.4"
  }
 },
 "nbformat": 4,
 "nbformat_minor": 4
}
