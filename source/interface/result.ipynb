{
 "cells": [
  {
   "cell_type": "markdown",
   "metadata": {
    "raw_mimetype": "text/restructuredtext"
   },
   "source": [
    ".. _nb_interface_results:"
   ]
  },
  {
   "cell_type": "markdown",
   "metadata": {},
   "source": [
    "## Result"
   ]
  },
  {
   "cell_type": "markdown",
   "metadata": {},
   "source": [
    "After an algorithm has been executed a result object is returned. In the following, single- and multi-objective runs with and without constraints are shown and the corresponding `Result` object is explained:"
   ]
  },
  {
   "cell_type": "code",
   "execution_count": 1,
   "metadata": {
    "execution": {
     "iopub.execute_input": "2021-09-03T13:00:37.643803Z",
     "iopub.status.busy": "2021-09-03T13:00:37.643143Z",
     "iopub.status.idle": "2021-09-03T13:00:37.893404Z",
     "shell.execute_reply": "2021-09-03T13:00:37.893897Z"
    }
   },
   "outputs": [],
   "source": [
    "from pymoo.algorithms.soo.nonconvex.ga import GA\n",
    "from pymoo.factory import get_problem\n",
    "from pymoo.optimize import minimize\n",
    "\n",
    "\n",
    "problem = get_problem(\"sphere\")\n",
    "algorithm = GA(pop_size=5)\n",
    "res = minimize(problem,\n",
    "               algorithm,\n",
    "               ('n_gen', 30),\n",
    "               seed=1)\n"
   ]
  },
  {
   "cell_type": "markdown",
   "metadata": {},
   "source": [
    "After an algorithm has been executed, a result object is returned. In the following, single- and multi-objective runs with and without constraints are shown, and the corresponding `Result` object is explained:\n",
    "\n",
    "In this single-objective optimization problem, there exists a single best solution that was found. \n",
    "The result directly contains the best-found values in the corresponding spaces. \n",
    "\n",
    "- `res.X`: Design space values are \n",
    "- `res.F`: Objective spaces values\n",
    "- `res.G`: Constraint values\n",
    "- `res.CV`: Aggregated constraint violation\n",
    "- `res.algorithm`: Algorithm object which has been iterated over\n",
    "- `res.opt`: The solutions as a `Population` object.\n",
    "- `res.pop`: The final Population\n",
    "- `res.history`: The history of the algorithm. (only if `save_history` has been enabled during the algorithm initialization)\n",
    "- `res.time`: The time required to run the algorithm\n"
   ]
  },
  {
   "cell_type": "code",
   "execution_count": 2,
   "metadata": {
    "execution": {
     "iopub.execute_input": "2021-09-03T13:00:37.901163Z",
     "iopub.status.busy": "2021-09-03T13:00:37.900360Z",
     "iopub.status.idle": "2021-09-03T13:00:37.903197Z",
     "shell.execute_reply": "2021-09-03T13:00:37.903610Z"
    }
   },
   "outputs": [
    {
     "data": {
      "text/plain": [
       "array([0.43553009, 0.64623533, 0.41297004, 0.63310497, 0.5128972 ,\n",
       "       0.50359626, 0.48004933, 0.4811089 , 0.61176118, 0.59986192])"
      ]
     },
     "execution_count": 2,
     "metadata": {},
     "output_type": "execute_result"
    }
   ],
   "source": [
    "res.X"
   ]
  },
  {
   "cell_type": "code",
   "execution_count": 3,
   "metadata": {
    "execution": {
     "iopub.execute_input": "2021-09-03T13:00:37.908088Z",
     "iopub.status.busy": "2021-09-03T13:00:37.907279Z",
     "iopub.status.idle": "2021-09-03T13:00:37.910033Z",
     "shell.execute_reply": "2021-09-03T13:00:37.910448Z"
    }
   },
   "outputs": [
    {
     "data": {
      "text/plain": [
       "array([0.07422943])"
      ]
     },
     "execution_count": 3,
     "metadata": {},
     "output_type": "execute_result"
    }
   ],
   "source": [
    "res.F"
   ]
  },
  {
   "cell_type": "code",
   "execution_count": 4,
   "metadata": {
    "execution": {
     "iopub.execute_input": "2021-09-03T13:00:37.915055Z",
     "iopub.status.busy": "2021-09-03T13:00:37.914084Z",
     "iopub.status.idle": "2021-09-03T13:00:37.916449Z",
     "shell.execute_reply": "2021-09-03T13:00:37.916928Z"
    }
   },
   "outputs": [],
   "source": [
    "res.G"
   ]
  },
  {
   "cell_type": "code",
   "execution_count": 5,
   "metadata": {
    "execution": {
     "iopub.execute_input": "2021-09-03T13:00:37.922154Z",
     "iopub.status.busy": "2021-09-03T13:00:37.920492Z",
     "iopub.status.idle": "2021-09-03T13:00:37.924772Z",
     "shell.execute_reply": "2021-09-03T13:00:37.925185Z"
    }
   },
   "outputs": [
    {
     "data": {
      "text/plain": [
       "array([0.])"
      ]
     },
     "execution_count": 5,
     "metadata": {},
     "output_type": "execute_result"
    }
   ],
   "source": [
    "res.CV"
   ]
  },
  {
   "cell_type": "code",
   "execution_count": 6,
   "metadata": {
    "execution": {
     "iopub.execute_input": "2021-09-03T13:00:37.929538Z",
     "iopub.status.busy": "2021-09-03T13:00:37.928813Z",
     "iopub.status.idle": "2021-09-03T13:00:37.931347Z",
     "shell.execute_reply": "2021-09-03T13:00:37.931755Z"
    }
   },
   "outputs": [
    {
     "data": {
      "text/plain": [
       "<pymoo.algorithms.soo.nonconvex.ga.GA at 0x7fbba7c2c190>"
      ]
     },
     "execution_count": 6,
     "metadata": {},
     "output_type": "execute_result"
    }
   ],
   "source": [
    "res.algorithm"
   ]
  },
  {
   "cell_type": "code",
   "execution_count": 7,
   "metadata": {
    "execution": {
     "iopub.execute_input": "2021-09-03T13:00:37.935388Z",
     "iopub.status.busy": "2021-09-03T13:00:37.934723Z",
     "iopub.status.idle": "2021-09-03T13:00:37.936688Z",
     "shell.execute_reply": "2021-09-03T13:00:37.937286Z"
    }
   },
   "outputs": [],
   "source": [
    "pop = res.pop"
   ]
  },
  {
   "cell_type": "markdown",
   "metadata": {},
   "source": [
    "The values from the final population can be extracted by using the `get` method. The population object is used internally and store information for each individual. The `get` method allows returning vectors or matrices based on the provided properties."
   ]
  },
  {
   "cell_type": "code",
   "execution_count": 8,
   "metadata": {
    "execution": {
     "iopub.execute_input": "2021-09-03T13:00:37.942938Z",
     "iopub.status.busy": "2021-09-03T13:00:37.942077Z",
     "iopub.status.idle": "2021-09-03T13:00:37.945074Z",
     "shell.execute_reply": "2021-09-03T13:00:37.945662Z"
    }
   },
   "outputs": [
    {
     "data": {
      "text/plain": [
       "array([[0.43553009, 0.64623533, 0.41297004, 0.63310497, 0.5128972 ,\n",
       "        0.50359626, 0.48004933, 0.4811089 , 0.61176118, 0.59986192],\n",
       "       [0.50920138, 0.64623533, 0.48592119, 0.6294815 , 0.51325573,\n",
       "        0.50359626, 0.48004933, 0.42286843, 0.59554591, 0.34019917],\n",
       "       [0.43553009, 0.64623533, 0.41297004, 0.63310497, 0.5128972 ,\n",
       "        0.50359626, 0.48004933, 0.4811089 , 0.61176118, 0.36503906],\n",
       "       [0.44074274, 0.64623533, 0.4241345 , 0.63050284, 0.51325573,\n",
       "        0.50359626, 0.48004933, 0.44778674, 0.59554591, 0.34109635],\n",
       "       [0.43553009, 0.64623533, 0.41297004, 0.63310497, 0.65786479,\n",
       "        0.50359626, 0.48004933, 0.4811089 , 0.61176118, 0.36503906]])"
      ]
     },
     "execution_count": 8,
     "metadata": {},
     "output_type": "execute_result"
    }
   ],
   "source": [
    "pop.get(\"X\")"
   ]
  },
  {
   "cell_type": "code",
   "execution_count": 9,
   "metadata": {
    "execution": {
     "iopub.execute_input": "2021-09-03T13:00:37.949971Z",
     "iopub.status.busy": "2021-09-03T13:00:37.949304Z",
     "iopub.status.idle": "2021-09-03T13:00:37.952254Z",
     "shell.execute_reply": "2021-09-03T13:00:37.953160Z"
    }
   },
   "outputs": [
    {
     "data": {
      "text/plain": [
       "array([[0.07422943],\n",
       "       [0.07963439],\n",
       "       [0.08247148],\n",
       "       [0.08537505],\n",
       "       [0.10722643]])"
      ]
     },
     "execution_count": 9,
     "metadata": {},
     "output_type": "execute_result"
    }
   ],
   "source": [
    "pop.get(\"F\")"
   ]
  },
  {
   "cell_type": "markdown",
   "metadata": {},
   "source": [
    "In this run, the problem did not have any constraints, and `res.G` evaluated to `None`.\n",
    "Also, note that `res.CV` will always be set to `0`, no matter if the problem has constraints or not."
   ]
  },
  {
   "cell_type": "markdown",
   "metadata": {},
   "source": [
    "Let us consider a problem that has, in fact, constraints:"
   ]
  },
  {
   "cell_type": "code",
   "execution_count": 10,
   "metadata": {
    "execution": {
     "iopub.execute_input": "2021-09-03T13:00:37.963390Z",
     "iopub.status.busy": "2021-09-03T13:00:37.962787Z",
     "iopub.status.idle": "2021-09-03T13:00:37.969134Z",
     "shell.execute_reply": "2021-09-03T13:00:37.969644Z"
    }
   },
   "outputs": [
    {
     "name": "stdout",
     "output_type": "stream",
     "text": [
      "==========================================================================================\n",
      "n_gen |  n_eval |   cv (min)   |   cv (avg)   |     fopt     |   fopt_gap   |     favg    \n",
      "==========================================================================================\n",
      "    1 |       5 |  1.35027E+02 |  5.47570E+02 |            - |            - |            -\n",
      "    2 |      10 |  1.35027E+02 |  3.32603E+02 |            - |            - |            -\n",
      "    3 |      15 |  1.35023E+02 |  1.45457E+02 |            - |            - |            -\n",
      "    4 |      20 |  1.34783E+02 |  1.35253E+02 |            - |            - |            -\n",
      "    5 |      25 |  1.33212E+02 |  1.34262E+02 |            - |            - |            -\n"
     ]
    }
   ],
   "source": [
    "problem = get_problem(\"g01\")\n",
    "algorithm = GA(pop_size=5)\n",
    "res = minimize(problem,\n",
    "               algorithm,\n",
    "               ('n_gen', 5),\n",
    "               verbose=True,\n",
    "               seed=1)"
   ]
  },
  {
   "cell_type": "code",
   "execution_count": 11,
   "metadata": {
    "execution": {
     "iopub.execute_input": "2021-09-03T13:00:37.974528Z",
     "iopub.status.busy": "2021-09-03T13:00:37.973835Z",
     "iopub.status.idle": "2021-09-03T13:00:37.976515Z",
     "shell.execute_reply": "2021-09-03T13:00:37.976989Z"
    }
   },
   "outputs": [
    {
     "data": {
      "text/plain": [
       "(None, None, None, None)"
      ]
     },
     "execution_count": 11,
     "metadata": {},
     "output_type": "execute_result"
    }
   ],
   "source": [
    "res.X, res.F, res.G, res.CV"
   ]
  },
  {
   "cell_type": "markdown",
   "metadata": {},
   "source": [
    "Here, the algorithm was not able to find any feasible solution in 5 generations. Therefore, all values contained in the results are equals to `None`. If the least feasible solution should be returned when no feasible solution was found, the flag `return_least_infeasible` can be enabled:"
   ]
  },
  {
   "cell_type": "code",
   "execution_count": 12,
   "metadata": {
    "execution": {
     "iopub.execute_input": "2021-09-03T13:00:37.990566Z",
     "iopub.status.busy": "2021-09-03T13:00:37.989799Z",
     "iopub.status.idle": "2021-09-03T13:00:37.994865Z",
     "shell.execute_reply": "2021-09-03T13:00:37.995294Z"
    }
   },
   "outputs": [
    {
     "name": "stdout",
     "output_type": "stream",
     "text": [
      "==========================================================================================\n",
      "n_gen |  n_eval |   cv (min)   |   cv (avg)   |     fopt     |   fopt_gap   |     favg    \n",
      "==========================================================================================\n",
      "    1 |       5 |  1.35027E+02 |  5.47570E+02 |            - |            - |            -\n",
      "    2 |      10 |  1.35027E+02 |  3.32603E+02 |            - |            - |            -\n",
      "    3 |      15 |  1.35023E+02 |  1.45457E+02 |            - |            - |            -\n",
      "    4 |      20 |  1.34783E+02 |  1.35253E+02 |            - |            - |            -\n",
      "    5 |      25 |  1.33212E+02 |  1.34262E+02 |            - |            - |            -\n"
     ]
    }
   ],
   "source": [
    "problem = get_problem(\"g01\")\n",
    "algorithm = GA(pop_size=5)\n",
    "res = minimize(problem,\n",
    "               algorithm,\n",
    "               ('n_gen', 5),\n",
    "               verbose=True,\n",
    "               return_least_infeasible=True,\n",
    "               seed=1)"
   ]
  },
  {
   "cell_type": "code",
   "execution_count": 13,
   "metadata": {
    "execution": {
     "iopub.execute_input": "2021-09-03T13:00:38.000668Z",
     "iopub.status.busy": "2021-09-03T13:00:37.999976Z",
     "iopub.status.idle": "2021-09-03T13:00:38.002577Z",
     "shell.execute_reply": "2021-09-03T13:00:38.003002Z"
    }
   },
   "outputs": [
    {
     "data": {
      "text/plain": [
       "(array([ 0.75106286,  0.98886109,  0.45981887,  0.45896477,  0.78927933,\n",
       "         0.10322601,  0.74930314,  0.9085955 ,  0.28661703, 28.77753386,\n",
       "        13.00285721,  1.93669579,  0.31406932]),\n",
       " array([-43.39475788]),\n",
       " array([35.26023898, 23.1359931 ,  7.83691291, 22.76903095,  5.0919685 ,\n",
       "        -1.74185514, 27.070325  , 12.04710206, -0.16711225]),\n",
       " array([133.21157149]))"
      ]
     },
     "execution_count": 13,
     "metadata": {},
     "output_type": "execute_result"
    }
   ],
   "source": [
    "res.X, res.F, res.G, res.CV"
   ]
  },
  {
   "cell_type": "markdown",
   "metadata": {},
   "source": [
    "We have made this design decision, because an infeasible solution can often not be considered as a solution\n",
    "of the optimization problem. Therefore, having a solution equals to `None` indicates the fact no feasible solution has been found."
   ]
  },
  {
   "cell_type": "markdown",
   "metadata": {},
   "source": [
    "If the problem has multiple objectives, the result object has the same structure but `res.X`, `res.F`, `res .G`, `res.CV` is a set \n",
    "of non-dominated solutions instead of a single one."
   ]
  },
  {
   "cell_type": "code",
   "execution_count": 14,
   "metadata": {
    "execution": {
     "iopub.execute_input": "2021-09-03T13:00:38.008008Z",
     "iopub.status.busy": "2021-09-03T13:00:38.007306Z",
     "iopub.status.idle": "2021-09-03T13:00:38.122460Z",
     "shell.execute_reply": "2021-09-03T13:00:38.122977Z"
    }
   },
   "outputs": [],
   "source": [
    "from pymoo.algorithms.moo.nsga2 import NSGA2\n",
    "\n",
    "problem = get_problem(\"zdt2\")\n",
    "algorithm = NSGA2()\n",
    "res = minimize(problem,\n",
    "               algorithm,\n",
    "               ('n_gen', 10),\n",
    "               seed=1)"
   ]
  },
  {
   "cell_type": "code",
   "execution_count": 15,
   "metadata": {
    "execution": {
     "iopub.execute_input": "2021-09-03T13:00:38.128637Z",
     "iopub.status.busy": "2021-09-03T13:00:38.127884Z",
     "iopub.status.idle": "2021-09-03T13:00:38.131036Z",
     "shell.execute_reply": "2021-09-03T13:00:38.131556Z"
    }
   },
   "outputs": [
    {
     "data": {
      "text/plain": [
       "array([[4.02723032e-01, 2.92285190e+00],\n",
       "       [2.42936792e-03, 3.09049957e+00],\n",
       "       [6.42640810e-05, 3.80452248e+00],\n",
       "       [9.03843390e-02, 2.97779402e+00],\n",
       "       [7.51601609e-04, 3.12489259e+00],\n",
       "       [2.66638116e-05, 4.15122904e+00],\n",
       "       [5.32367109e-01, 2.91333135e+00],\n",
       "       [7.51074119e-05, 3.17766175e+00],\n",
       "       [9.96726161e-01, 2.73633323e+00],\n",
       "       [9.37668137e-01, 2.76323527e+00],\n",
       "       [2.78148785e-05, 3.90537318e+00]])"
      ]
     },
     "execution_count": 15,
     "metadata": {},
     "output_type": "execute_result"
    }
   ],
   "source": [
    "res.F"
   ]
  }
 ],
 "metadata": {
  "kernelspec": {
   "display_name": "Python 3",
   "language": "python",
   "name": "python3"
  },
  "language_info": {
   "codemirror_mode": {
    "name": "ipython",
    "version": 3
   },
   "file_extension": ".py",
   "mimetype": "text/x-python",
   "name": "python",
   "nbconvert_exporter": "python",
   "pygments_lexer": "ipython3",
   "version": "3.7.4"
  }
 },
 "nbformat": 4,
 "nbformat_minor": 4
}
