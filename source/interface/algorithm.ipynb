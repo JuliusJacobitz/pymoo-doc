{
 "cells": [
  {
   "cell_type": "markdown",
   "metadata": {
    "raw_mimetype": "text/restructuredtext"
   },
   "source": [
    ".. _nb_interface_algorithm:"
   ]
  },
  {
   "cell_type": "markdown",
   "metadata": {},
   "source": [
    "## Algorithm\n"
   ]
  },
  {
   "cell_type": "markdown",
   "metadata": {},
   "source": [
    "After having defined the problem, a suitable algorithm for optimizing it has to be found. This can be challenging and might require some literature research. *pymoo* offers quite a few standard implementations of well-known algorithms that can be quite useful in obtaining quick results or prototyping."
   ]
  },
  {
   "cell_type": "markdown",
   "metadata": {},
   "source": [
    "Each algorithm has different parameters to be initialized. For the functional interface, the algorithm object needs to be passed to the `minimize` method, starting the optimization run. However, the algorithm object can also be iterated over directly."
   ]
  },
  {
   "cell_type": "raw",
   "metadata": {
    "raw_mimetype": "text/restructuredtext"
   },
   "source": [
    ".. admonition:: Overview\n",
    "    :class: myOwnStyle\n",
    "    \n",
    "    \n",
    "\n",
    "    - `Functional <minimize.ipynb>`_: Use the minimize method and pass the algorithm object.\n",
    "    - :ref:`Object-oriented <nb_algorithms>`: Advance the algorithm until it has been terminated. Even more detailed, you can use the `infill()` method to retrieve the solutions to be evaluated and interfere if necessary. For more details, please have a look at the algorithm tutorial :ref:`here <nb_algorithms>`."
   ]
  },
  {
   "cell_type": "markdown",
   "metadata": {},
   "source": [
    "For a list of algorithms in *pymoo* please have a look here [here](../algorithms/index.ipynb). For instance, NSGA-II can be initialized by: "
   ]
  },
  {
   "cell_type": "code",
   "execution_count": 1,
   "metadata": {
    "execution": {
     "iopub.execute_input": "2021-09-03T13:00:42.676931Z",
     "iopub.status.busy": "2021-09-03T13:00:42.676075Z",
     "iopub.status.idle": "2021-09-03T13:00:42.836215Z",
     "shell.execute_reply": "2021-09-03T13:00:42.836714Z"
    }
   },
   "outputs": [],
   "source": [
    "from pymoo.algorithms.moo.nsga2 import NSGA2\n",
    "\n",
    "algorithm = NSGA2(pop_size=50, n_offsprings=10)"
   ]
  },
  {
   "cell_type": "markdown",
   "metadata": {},
   "source": [
    "The algorithm is initialized with a population size of 50 and the number of offsprings being 10 in each iteration. **Please be aware that the parameters for each algorithm may vary!**"
   ]
  }
 ],
 "metadata": {
  "kernelspec": {
   "display_name": "Python 3",
   "language": "python",
   "name": "python3"
  },
  "language_info": {
   "codemirror_mode": {
    "name": "ipython",
    "version": 3
   },
   "file_extension": ".py",
   "mimetype": "text/x-python",
   "name": "python",
   "nbconvert_exporter": "python",
   "pygments_lexer": "ipython3",
   "version": "3.7.4"
  }
 },
 "nbformat": 4,
 "nbformat_minor": 4
}
